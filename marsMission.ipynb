{
 "cells": [
  {
   "cell_type": "code",
   "execution_count": 1,
   "metadata": {},
   "outputs": [],
   "source": [
    "import pandas as pd\n",
    "from splinter import Browser\n",
    "from bs4 import BeautifulSoup as bs\n",
    "import requests as req "
   ]
  },
  {
   "cell_type": "markdown",
   "metadata": {},
   "source": [
    "### NASA Mars News"
   ]
  },
  {
   "cell_type": "code",
   "execution_count": 2,
   "metadata": {},
   "outputs": [],
   "source": [
    "news_data = {}\n",
    "paragraph_text = []  \n",
    "base_url = \"https://mars.nasa.gov/\"\n",
    "nasa_url = \"https://mars.nasa.gov/news/\"\n",
    "response_1 = req.get(nasa_url)"
   ]
  },
  {
   "cell_type": "code",
   "execution_count": 3,
   "metadata": {},
   "outputs": [],
   "source": [
    "nasa_soup = bs(response_1.text, 'html.parser')\n",
    "soup_div = nasa_soup.find(class_=\"slide\")                                    \n",
    "soup_news = soup_div.find_all('a')                                          \n",
    "news_title = soup_news[1].get_text().strip()\n",
    "\n",
    "soup_p = soup_div.find_all('a', href=True)                                   \n",
    "soup_p_url = soup_p[0]['href']                                             \n",
    "paragraph_url = base_url + soup_p_url                                        \n",
    "response_2 = req.get(paragraph_url)                \n",
    "para_soup = bs(response_2.text, \"html.parser\")        \n",
    "ww_paragraphs = para_soup.find(class_='wysiwyg_content')    \n",
    "paragraphs = ww_paragraphs.find_all('p') "
   ]
  },
  {
   "cell_type": "code",
   "execution_count": 4,
   "metadata": {},
   "outputs": [
    {
     "data": {
      "text/plain": [
       "{'news_title': 'Opportunity Hunkers Down During Dust Storm',\n",
       " 'paragraph_text_1': 'NASA Mars Exploration Rover Status Report',\n",
       " 'paragraph_text_2': 'Updated at 2:25 p.m. PDT on July 26, 2018'}"
      ]
     },
     "execution_count": 4,
     "metadata": {},
     "output_type": "execute_result"
    }
   ],
   "source": [
    "for paragraph in paragraphs:                      \n",
    "    clean_paragraph = paragraph.get_text().strip()                           \n",
    "    paragraph_text.append(clean_paragraph)\n",
    "news_data[\"news_title\"] = news_title\n",
    "news_data[\"paragraph_text_1\"] = paragraph_text[0]\n",
    "news_data[\"paragraph_text_2\"] = paragraph_text[1]\n",
    "news_data "
   ]
  },
  {
   "cell_type": "markdown",
   "metadata": {},
   "source": [
    "### JPL Mars Space Images - Featured Image"
   ]
  },
  {
   "cell_type": "code",
   "execution_count": 5,
   "metadata": {},
   "outputs": [],
   "source": [
    "browser = Browser('chrome', headless=False)               \n",
    "jpl_fullsize_url = 'https://photojournal.jpl.nasa.gov/jpeg/'        \n",
    "jpl_url = \"https://www.jpl.nasa.gov/spaceimages/?search=&category=Mars\" \n",
    "\n",
    "browser.visit(jpl_url)          \n",
    "\n",
    "jpl_html = browser.html                      \n",
    "jpl_soup = bs(jpl_html, 'html.parser') "
   ]
  },
  {
   "cell_type": "code",
   "execution_count": 6,
   "metadata": {},
   "outputs": [],
   "source": [
    "featured_image_list = []                      \n",
    "\n",
    "for image in jpl_soup.find_all('div',class_=\"img\"):          \n",
    "    featured_image_list.append(image.find('img').get('src')) "
   ]
  },
  {
   "cell_type": "code",
   "execution_count": 7,
   "metadata": {},
   "outputs": [
    {
     "data": {
      "text/plain": [
       "'https://photojournal.jpl.nasa.gov/jpeg/PIA22719.jpg'"
      ]
     },
     "execution_count": 7,
     "metadata": {},
     "output_type": "execute_result"
    }
   ],
   "source": [
    "feature_image = featured_image_list[0]                   \n",
    "temp_list_1 = feature_image.split('-')                       \n",
    "temp_list_2 = temp_list_1[0].split('/')                             \n",
    "featured_image_url = jpl_fullsize_url + temp_list_2[-1] + '.jpg'\n",
    "\n",
    "featured_image_url\n"
   ]
  },
  {
   "cell_type": "code",
   "execution_count": 8,
   "metadata": {},
   "outputs": [],
   "source": [
    "browser.quit() "
   ]
  },
  {
   "cell_type": "markdown",
   "metadata": {},
   "source": [
    "### Mars Weather"
   ]
  },
  {
   "cell_type": "code",
   "execution_count": 38,
   "metadata": {},
   "outputs": [],
   "source": [
    "browser = Browser('chrome', headless=False)             \n",
    "tweet_url = 'https://twitter.com/marswxreport?lang=en'       \n",
    "browser.visit(tweet_url) "
   ]
  },
  {
   "cell_type": "code",
   "execution_count": 39,
   "metadata": {},
   "outputs": [],
   "source": [
    "tweet_html = browser.html                                              \n",
    "tweet_soup = bs(tweet_html, 'html.parser') "
   ]
  },
  {
   "cell_type": "code",
   "execution_count": 41,
   "metadata": {},
   "outputs": [],
   "source": [
    "weather_info_list = []                                            \n",
    "\n",
    "for weather_info in tweet_soup.find_all('p',class_=\"TweetTextSize TweetTextSize--normal js-tweet-text tweet-text\"):\n",
    "    weather_info_list.append(weather_info.text.strip())\n",
    "\n",
    "# weather_info_list"
   ]
  },
  {
   "cell_type": "code",
   "execution_count": 42,
   "metadata": {},
   "outputs": [],
   "source": [
    "for value in reversed(weather_info_list):    \n",
    "    if value[:3]=='Sol':                            \n",
    "        mars_weather = value"
   ]
  },
  {
   "cell_type": "code",
   "execution_count": 43,
   "metadata": {
    "scrolled": false
   },
   "outputs": [
    {
     "data": {
      "text/plain": [
       "'Sol 2171 (2018-09-14), high -12C/10F, low -65C/-84F, pressure at 8.79 hPa, daylight 05:43-17:59'"
      ]
     },
     "execution_count": 43,
     "metadata": {},
     "output_type": "execute_result"
    }
   ],
   "source": [
    "mars_weather"
   ]
  },
  {
   "cell_type": "code",
   "execution_count": 44,
   "metadata": {},
   "outputs": [],
   "source": [
    "browser.quit() "
   ]
  },
  {
   "cell_type": "markdown",
   "metadata": {},
   "source": [
    " Mars Facts"
   ]
  },
  {
   "cell_type": "code",
   "execution_count": 45,
   "metadata": {},
   "outputs": [
    {
     "name": "stdout",
     "output_type": "stream",
     "text": [
      "<table border=\"1\" class=\"dataframe\">\n",
      "  <tbody>\n",
      "    <tr>\n",
      "      <td>Equatorial Diameter:</td>\n",
      "      <td>6,792 km</td>\n",
      "    </tr>\n",
      "    <tr>\n",
      "      <td>Polar Diameter:</td>\n",
      "      <td>6,752 km</td>\n",
      "    </tr>\n",
      "    <tr>\n",
      "      <td>Mass:</td>\n",
      "      <td>6.42 x 10^23 kg (10.7% Earth)</td>\n",
      "    </tr>\n",
      "    <tr>\n",
      "      <td>Moons:</td>\n",
      "      <td>2 (Phobos &amp; Deimos)</td>\n",
      "    </tr>\n",
      "    <tr>\n",
      "      <td>Orbit Distance:</td>\n",
      "      <td>227,943,824 km (1.52 AU)</td>\n",
      "    </tr>\n",
      "    <tr>\n",
      "      <td>Orbit Period:</td>\n",
      "      <td>687 days (1.9 years)</td>\n",
      "    </tr>\n",
      "    <tr>\n",
      "      <td>Surface Temperature:</td>\n",
      "      <td>-153 to 20 °C</td>\n",
      "    </tr>\n",
      "    <tr>\n",
      "      <td>First Record:</td>\n",
      "      <td>2nd millennium BC</td>\n",
      "    </tr>\n",
      "    <tr>\n",
      "      <td>Recorded By:</td>\n",
      "      <td>Egyptian astronomers</td>\n",
      "    </tr>\n",
      "  </tbody>\n",
      "</table>\n"
     ]
    }
   ],
   "source": [
    "facts_url = 'https://space-facts.com/mars/'\n",
    "fact_list = pd.read_html(facts_url)\n",
    "facts_df = fact_list[0]\n",
    "facts_table = facts_df.to_html(header=False, index=False)                  \n",
    "print(facts_table)"
   ]
  },
  {
   "cell_type": "markdown",
   "metadata": {},
   "source": [
    "### Mars Hemispheres"
   ]
  },
  {
   "cell_type": "code",
   "execution_count": 50,
   "metadata": {},
   "outputs": [],
   "source": [
    "browser = Browser('chrome', headless=False)                                            \n",
    "\n",
    "# defines search URL\n",
    "usgs_url = 'https://astrogeology.usgs.gov/search/results?q=hemisphere+enhanced&k1=target&v1=Mars'\n",
    "browser.visit(usgs_url)\n",
    "usgs_html = browser.html              \n",
    "usgs_soup = bs(usgs_html, 'html.parser')"
   ]
  },
  {
   "cell_type": "code",
   "execution_count": 51,
   "metadata": {},
   "outputs": [],
   "source": [
    "hemisphere_image_urls = []                                         \n",
    "\n",
    "products = usgs_soup.find('div', class_='result-list')            \n",
    "hemispheres = products.find_all('div', class_='item')            \n",
    "\n",
    "for hemisphere in hemispheres:                                  \n",
    "    title = hemisphere.find('div', class_='description')\n",
    "\n",
    "    title_text = title.a.text                                   \n",
    "    title_text = title_text.replace(' Enhanced', '')\n",
    "    browser.click_link_by_partial_text(title_text)            \n",
    "\n",
    "    usgs_html = browser.html                                         \n",
    "    usgs_soup = bs(usgs_html, 'html.parser')                  \n",
    "\n",
    "    image = usgs_soup.find('div', class_='downloads').find('ul').find('li') \n",
    "    img_url = image.a['href']\n",
    "\n",
    "    hemisphere_image_urls.append({'title': title_text, 'img_url': img_url})  \n",
    "\n",
    "    browser.click_link_by_partial_text('Back')\n"
   ]
  },
  {
   "cell_type": "code",
   "execution_count": 52,
   "metadata": {},
   "outputs": [],
   "source": [
    "hemisphere_image_urls\n"
   ]
  },
  {
   "cell_type": "code",
   "execution_count": 53,
   "metadata": {},
   "outputs": [],
   "source": [
    "browser.quit() \n"
   ]
  },
  {
   "cell_type": "code",
   "execution_count": null,
   "metadata": {},
   "outputs": [],
   "source": []
  }
 ],
 "metadata": {
  "kernelspec": {
   "display_name": "Python 3",
   "language": "python",
   "name": "python3"
  },
  "language_info": {
   "codemirror_mode": {
    "name": "ipython",
    "version": 3
   },
   "file_extension": ".py",
   "mimetype": "text/x-python",
   "name": "python",
   "nbconvert_exporter": "python",
   "pygments_lexer": "ipython3",
   "version": "3.6.5"
  }
 },
 "nbformat": 4,
 "nbformat_minor": 2
}
